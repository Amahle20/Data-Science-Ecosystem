{
 "cells": [
  {
   "cell_type": "markdown",
   "id": "4bd3b67f-256e-458d-a31f-c017623a67e5",
   "metadata": {},
   "source": [
    "# Data Science Tools and Ecosystem"
   ]
  },
  {
   "cell_type": "markdown",
   "id": "88ce741c-682d-4900-be55-85a56af2bd1a",
   "metadata": {},
   "source": [
    "In this notebook, Data Science Tools and Ecosystem are summarized."
   ]
  },
  {
   "cell_type": "markdown",
   "id": "810ad166-ffea-46fd-af86-9be04ab86b44",
   "metadata": {},
   "source": [
    "Objectives:"
   ]
  },
  {
   "cell_type": "markdown",
   "id": "fd64447b-9e07-4124-b52a-4df88d9cea7f",
   "metadata": {},
   "source": [
    "+ popular languages that Data Scientists use +\n",
    "+ libraries used by Data Scientists +\n",
    "+ Data Science Tools +\n"
   ]
  },
  {
   "cell_type": "markdown",
   "id": "13392895-ed65-489a-b909-12b9f9cffa82",
   "metadata": {},
   "source": [
    "Some of the popular languages that Data Scientists use are:\n",
    "Python, R, SQL"
   ]
  },
  {
   "cell_type": "markdown",
   "id": "4837e7c0-b503-4fd9-9c3f-ede823abaa07",
   "metadata": {},
   "source": [
    "Some of the commonly used libraries used by Data Scientists include: Pandas, Numpy, Matplotlib"
   ]
  },
  {
   "cell_type": "markdown",
   "id": "881917b3-54ca-47ca-83f2-90ae19c7e9e5",
   "metadata": {},
   "source": [
    "| Data Science Tools|\n",
    "|-------------------|\n",
    "| Jupyter notebook |\n",
    "| Jupyter Lab|\n",
    "|R Studio |"
   ]
  },
  {
   "cell_type": "markdown",
   "id": "f2aecbc0-b42a-4c91-b0b6-6aea1b02603b",
   "metadata": {},
   "source": [
    "### Below are a few examples of evaluating arithmetic expressions in Python"
   ]
  },
  {
   "cell_type": "code",
   "execution_count": 2,
   "id": "2543776b-6c4b-4b40-8bc7-660c8a0eb9aa",
   "metadata": {},
   "outputs": [
    {
     "data": {
      "text/plain": [
       "17.0"
      ]
     },
     "execution_count": 2,
     "metadata": {},
     "output_type": "execute_result"
    }
   ],
   "source": [
    "(3*4)+5."
   ]
  },
  {
   "cell_type": "code",
   "execution_count": 3,
   "id": "a119373c-3133-4889-ac4d-fd9015fd936b",
   "metadata": {},
   "outputs": [
    {
     "data": {
      "text/plain": [
       "3.3333333333333335"
      ]
     },
     "execution_count": 3,
     "metadata": {},
     "output_type": "execute_result"
    }
   ],
   "source": [
    "200/60"
   ]
  },
  {
   "cell_type": "markdown",
   "id": "296599f8-d77d-467d-8f3f-1195e8aa96be",
   "metadata": {},
   "source": [
    "## Author\n",
    "Amahle Nonyusa"
   ]
  },
  {
   "cell_type": "code",
   "execution_count": null,
   "id": "8e7f46c1-97db-4324-a39d-a9c8cf10b8f3",
   "metadata": {},
   "outputs": [],
   "source": []
  }
 ],
 "metadata": {
  "kernelspec": {
   "display_name": "Python 3 (ipykernel)",
   "language": "python",
   "name": "python3"
  },
  "language_info": {
   "codemirror_mode": {
    "name": "ipython",
    "version": 3
   },
   "file_extension": ".py",
   "mimetype": "text/x-python",
   "name": "python",
   "nbconvert_exporter": "python",
   "pygments_lexer": "ipython3",
   "version": "3.11.7"
  }
 },
 "nbformat": 4,
 "nbformat_minor": 5
}
